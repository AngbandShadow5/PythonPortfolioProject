{
 "cells": [
  {
   "cell_type": "code",
   "execution_count": 64,
   "id": "1c7893a6",
   "metadata": {},
   "outputs": [],
   "source": [
    "#Average age of users in data file. \n",
    "def average_age(csv_list):\n",
    "    total_age = 0\n",
    "    for line in csv_list:\n",
    "        total_age += int(line[\"age\"])\n",
    "    average_age = total_age / len(csv_list)\n",
    "    return round(average_age, 0)"
   ]
  },
  {
   "cell_type": "code",
   "execution_count": 65,
   "id": "8155d5e0",
   "metadata": {},
   "outputs": [],
   "source": [
    "#Average age of users with at least 1 child. \n",
    "def average_age_one_child(csv_list):\n",
    "    total_age = 0\n",
    "    count = 0\n",
    "    for line in insurance_csv_list:\n",
    "        if int(line[\"children\"]) > 0:\n",
    "            total_age += int(line[\"age\"])\n",
    "            count += 1\n",
    "    return round((total_age / count), 0)"
   ]
  },
  {
   "cell_type": "code",
   "execution_count": 66,
   "id": "10f6f30a",
   "metadata": {},
   "outputs": [],
   "source": [
    "#Finding the regions of all users. \n",
    "def individual_regions(csv_list):\n",
    "    northeast, northwest, southeast, southwest = 0, 0, 0, 0\n",
    "    for line in insurance_csv_list:\n",
    "        if line[\"region\"] == \"northeast\":\n",
    "            northeast += 1\n",
    "        elif line[\"region\"] == \"northwest\":\n",
    "            northwest += 1\n",
    "        elif line[\"region\"] == \"southeast\":\n",
    "            southeast += 1\n",
    "        elif line[\"region\"] == \"southwest\":\n",
    "            southwest += 1\n",
    "    regions = ['northeast', 'northwest', 'southeast', 'southwest']\n",
    "    region_totals = [northeast, northwest, southeast, southwest]\n",
    "    plt.bar(regions, region_totals)\n",
    "    plt.xlabel('Region')\n",
    "    plt.ylabel('People')\n",
    "    plt.title('Number of People in Different Regions')\n",
    "    plt.show()"
   ]
  },
  {
   "cell_type": "code",
   "execution_count": 67,
   "id": "300592aa",
   "metadata": {},
   "outputs": [],
   "source": [
    "#Finding the relation between smoking and costs. \n",
    "def non_smokers_vs_smokers(csv_list):\n",
    "    non_smoker_costs = [round(float(line[\"charges\"]), 2) for line in csv_list if line[\"smoker\"] == \"no\"]\n",
    "    smoker_costs = [round(float(line[\"charges\"]), 2) for line in csv_list if line[\"smoker\"] == \"yes\"]\n",
    "\n",
    "    plt.figure(figsize=(9, 9))\n",
    "    plt.plot([0], [non_smoker_costs], 'bo')\n",
    "    plt.plot([1], [smoker_costs], 'ro')\n",
    "    plt.axis([-1, 2, 0, 70000])\n",
    "    plt.xlabel('Arbitary X-Axis Markers')\n",
    "    plt.ylabel('Insurance Cost ($USD)')\n",
    "    plt.title(\"Non-Smoker (blue) vs Smoker Costs (red)\")\n",
    "    plt.show()"
   ]
  },
  {
   "cell_type": "code",
   "execution_count": 68,
   "id": "9faab74d",
   "metadata": {},
   "outputs": [],
   "source": [
    "#Plotting BMI in relation to cost. \n",
    "def bmi_relation_to_cost(csv_list):\n",
    "    all_bmi = [float(line[\"bmi\"]) for line in csv_list]\n",
    "    all_charges = [round(float(line[\"charges\"]), 2) for line in csv_list]\n",
    "    plt.scatter(all_bmi, all_charges)\n",
    "    plt.xlabel('BMI')\n",
    "    plt.ylabel('Insurance Cost ($USD)')\n",
    "    plt.title(\"BMI in Relation to Insurance Cost\")\n",
    "    plt.show()"
   ]
  },
  {
   "cell_type": "code",
   "execution_count": 69,
   "id": "fb24269a",
   "metadata": {},
   "outputs": [],
   "source": [
    "#Plotting Age in relation to cost. \n",
    "def age_relation_to_cost(csv_list):\n",
    "    all_ages = [int(line[\"age\"]) for line in csv_list]\n",
    "    all_charges = [round(float(line[\"charges\"]), 2) for line in csv_list]\n",
    "    plt.scatter(all_ages, all_charges)\n",
    "    plt.xlabel('Age')\n",
    "    plt.ylabel('Insurance Cost ($USD)')\n",
    "    plt.title(\"Age in Relation to Insurance Cost\")\n",
    "    plt.show()"
   ]
  },
  {
   "cell_type": "code",
   "execution_count": 70,
   "id": "4b597b87",
   "metadata": {},
   "outputs": [],
   "source": [
    "def average_cost_per_region(csv_list):\n",
    "    northeast_count, northwest_count, southeast_count, southwest_count = 0, 0, 0, 0\n",
    "    total_cost_NE, total_cost_NW, total_cost_SE, total_cost_SW = 0, 0, 0, 0\n",
    "    for line in csv_list:\n",
    "        if line[\"region\"] == \"northeast\":\n",
    "            northeast_count += 1\n",
    "            total_cost_NE += round(float(line[\"charges\"]), 2)\n",
    "        elif line[\"region\"] == \"northwest\":\n",
    "            northwest_count += 1\n",
    "            total_cost_NW += round(float(line[\"charges\"]), 2)\n",
    "        elif line[\"region\"] == \"southeast\":\n",
    "            southeast_count += 1\n",
    "            total_cost_SE += round(float(line[\"charges\"]), 2)\n",
    "        elif line[\"region\"] == \"southwest\":\n",
    "            southwest_count += 1\n",
    "            total_cost_SW += round(float(line[\"charges\"]), 2)\n",
    "    regions = ['northeast', 'northwest', 'southeast', 'southwest']\n",
    "    region_average_costs = [total_cost_NE/northeast_count, total_cost_NW/northwest_count, total_cost_SE/southeast_count, total_cost_SW/southwest_count]\n",
    "    plt.bar(regions, region_average_costs)\n",
    "    plt.xlabel('Region')\n",
    "    plt.ylabel('Insurance Cost ($USD)')\n",
    "    plt.title('Average Cost in Different Regions')\n",
    "    plt.show()"
   ]
  }
 ],
 "metadata": {
  "kernelspec": {
   "display_name": "Python 3",
   "language": "python",
   "name": "python3"
  },
  "language_info": {
   "codemirror_mode": {
    "name": "ipython",
    "version": 3
   },
   "file_extension": ".py",
   "mimetype": "text/x-python",
   "name": "python",
   "nbconvert_exporter": "python",
   "pygments_lexer": "ipython3",
   "version": "3.8.8"
  }
 },
 "nbformat": 4,
 "nbformat_minor": 5
}
